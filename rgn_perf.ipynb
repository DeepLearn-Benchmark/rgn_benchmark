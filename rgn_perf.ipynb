{
 "cells": [
  {
   "cell_type": "markdown",
   "metadata": {},
   "source": [
    "# RGN performance evaluation  \n",
    "\n",
    "This notebook is to evaluate the performance of [Recurrent Geometric Network (RGN)](https://github.com/aqlaboratory/rgn) in predicting the 3D structure of CASP12 targets. \n",
    "\n",
    "Detailed setup prior to running this notebook is available in the [README.md](). \n",
    "\n",
    "NOTE: Only prediction time is evaluated here. "
   ]
  },
  {
   "cell_type": "code",
   "execution_count": 1,
   "metadata": {},
   "outputs": [],
   "source": [
    "import os \n",
    "import sys\n",
    "import time \n",
    "import pickle \n",
    "import subprocess\n",
    "from Bio import SeqIO\n",
    "\n",
    "import pandas as pd\n",
    "import matplotlib.pyplot as plt "
   ]
  },
  {
   "cell_type": "markdown",
   "metadata": {},
   "source": [
    "## Basic info \n",
    "\n",
    "Set up which gpu to use, rgn and database paths. "
   ]
  },
  {
   "cell_type": "code",
   "execution_count": 3,
   "metadata": {},
   "outputs": [],
   "source": [
    "os.environ['CUDA_VISIBLE_DEVICES'] = str(0) \n",
    "rgn_path = '..' \n",
    "dbs_path = '../../dbs'"
   ]
  },
  {
   "cell_type": "markdown",
   "metadata": {},
   "source": [
    "## Executing RGN function \n",
    "\n",
    "A function to run RGN with Python subprocess32. "
   ]
  },
  {
   "cell_type": "code",
   "execution_count": 5,
   "metadata": {},
   "outputs": [],
   "source": [
    "def exec_rgn(record): \n",
    "    \"\"\"Executing RGN on a biopython SeqRecord\"\"\" \n",
    "    SeqIO.write(record, \"%s.fa\"%record.id, \"fasta\") \n",
    "\n",
    "    protein_name = record.id\n",
    "    perf_dict = dict() \n",
    "    perf_dict['id'] = record.id \n",
    "    perf_dict['n_res'] = len(record.seq)\n",
    "\n",
    "    # hmmer search for MSA\n",
    "    hmmer_command = \"bash %s/data_processing/jackhmmer.sh %s.fa %s/proteinnet12\" % (rgn_path, record.id, dbs_path)\n",
    "    time_start = time.time()\n",
    "    hmmer_p = subprocess.Popen(hmmer_command, shell=True, stdout=subprocess.PIPE, stderr=subprocess.PIPE) \n",
    "    hmmer_p.wait() \n",
    "    perf_dict['hmmer'] = time.time() - time_start \n",
    "\n",
    "    # coversion to tf record format \n",
    "    tfrecord_commands = [\n",
    "        'python %s/data_processing/convert_to_proteinnet.py %s.fa' % (rgn_path, protein_name),                              \n",
    "        'python %s/data_processing/convert_to_tfrecord.py {1}.fa.proteinnet {1}.fa.tfrecord 42'.format(rgn_path, protein_name),                              \n",
    "        'cp {}.fa.tfrecord RGN12/data/ProteinNet12Thinning90/testing/'.format(protein_name)] \n",
    "    time_start = time.time() \n",
    "    for command in tfrecord_commands: \n",
    "        p = subprocess.Popen(command, shell=True, stdout=subprocess.PIPE, stderr=subprocess.PIPE) \n",
    "        p.wait()  \n",
    "    perf_dict['tfrecord'] = time.time() - time_start \n",
    "\n",
    "    rgn_command = 'python %s/model/protling.py '\\\n",
    "                'RGN12/runs/CASP12/ProteinNet12Thinning90/configuration '\\\n",
    "                '-d ./RGN12/ -p -e weighted_testing -g0'  % rgn_path\n",
    "    time_start = time.time()\n",
    "    rgn_p = subprocess.Popen(rgn_command, shell=True, stdout=subprocess.PIPE, stderr=subprocess.PIPE) \n",
    "    rgn_p.wait() \n",
    "    perf_dict['rgn_predict'] = time.time() - time_start \n",
    "\n",
    "    return perf_dict "
   ]
  },
  {
   "cell_type": "markdown",
   "metadata": {},
   "source": [
    "## Run RGN through casp12 record "
   ]
  },
  {
   "cell_type": "code",
   "execution_count": 2,
   "metadata": {},
   "outputs": [
    {
     "ename": "NameError",
     "evalue": "name 'exec_rgn' is not defined",
     "output_type": "error",
     "traceback": [
      "\u001b[0;31m---------------------------------------------------------------------------\u001b[0m",
      "\u001b[0;31mNameError\u001b[0m                                 Traceback (most recent call last)",
      "\u001b[0;32m<ipython-input-2-08800569a81c>\u001b[0m in \u001b[0;36m<module>\u001b[0;34m()\u001b[0m\n\u001b[1;32m      1\u001b[0m \u001b[0mperf_record\u001b[0m \u001b[0;34m=\u001b[0m \u001b[0;34m[\u001b[0m\u001b[0;34m]\u001b[0m\u001b[0;34m\u001b[0m\u001b[0m\n\u001b[1;32m      2\u001b[0m \u001b[0;32mfor\u001b[0m \u001b[0mrecord\u001b[0m \u001b[0;32min\u001b[0m \u001b[0mSeqIO\u001b[0m\u001b[0;34m.\u001b[0m\u001b[0mparse\u001b[0m\u001b[0;34m(\u001b[0m\u001b[0;34m\"./casp12.seq.txt\"\u001b[0m\u001b[0;34m,\u001b[0m \u001b[0;34m\"fasta\"\u001b[0m\u001b[0;34m)\u001b[0m\u001b[0;34m:\u001b[0m\u001b[0;34m\u001b[0m\u001b[0m\n\u001b[0;32m----> 3\u001b[0;31m     \u001b[0mperf\u001b[0m \u001b[0;34m=\u001b[0m \u001b[0mexec_rgn\u001b[0m\u001b[0;34m(\u001b[0m\u001b[0mrecord\u001b[0m\u001b[0;34m)\u001b[0m\u001b[0;34m\u001b[0m\u001b[0m\n\u001b[0m\u001b[1;32m      4\u001b[0m     \u001b[0mperf_record\u001b[0m\u001b[0;34m.\u001b[0m\u001b[0mappend\u001b[0m\u001b[0;34m(\u001b[0m\u001b[0mperf\u001b[0m\u001b[0;34m)\u001b[0m\u001b[0;34m\u001b[0m\u001b[0m\n",
      "\u001b[0;31mNameError\u001b[0m: name 'exec_rgn' is not defined"
     ]
    }
   ],
   "source": [
    "perf_record = []\n",
    "for record in SeqIO.parse(\"./casp12.seq.txt\", \"fasta\"):\n",
    "    perf = exec_rgn(record) \n",
    "    perf_record.append(perf)    "
   ]
  },
  {
   "cell_type": "markdown",
   "metadata": {},
   "source": [
    "## Save the result to pickle "
   ]
  },
  {
   "cell_type": "code",
   "execution_count": 10,
   "metadata": {},
   "outputs": [],
   "source": [
    "with open('perf_rgn.pickle', 'wb') as fp: \n",
    "    pickle.dump(perf_record, fp)"
   ]
  },
  {
   "cell_type": "markdown",
   "metadata": {},
   "source": [
    "```bash\n",
    "bash ../data_processing/jackhmmer.sh 1ubq.fa ../../dbs/proteinnet12 \n",
    "python ../data_processing/convert_to_proteinnet.py 1ubq.fa\n",
    "python ../data_processing/convert_to_tfrecord.py 1ubq.fa.proteinnet 1ubq.fa.tfrecord 42 \n",
    "cp 1ubq.fa.tfrecord RGN12/data/ProteinNet12Thinning90/testing/\n",
    "python ../model/protling.py RGN12/runs/CASP12/ProteinNet12Thinning90/configuration -d ./RGN12/ -p -e weighted_testing -g0 \n",
    "```"
   ]
  },
  {
   "cell_type": "code",
   "execution_count": null,
   "metadata": {},
   "outputs": [],
   "source": []
  }
 ],
 "metadata": {
  "kernelspec": {
   "display_name": "Python 2",
   "language": "python",
   "name": "python2"
  },
  "language_info": {
   "codemirror_mode": {
    "name": "ipython",
    "version": 2
   },
   "file_extension": ".py",
   "mimetype": "text/x-python",
   "name": "python",
   "nbconvert_exporter": "python",
   "pygments_lexer": "ipython2",
   "version": "2.7.17"
  }
 },
 "nbformat": 4,
 "nbformat_minor": 2
}
