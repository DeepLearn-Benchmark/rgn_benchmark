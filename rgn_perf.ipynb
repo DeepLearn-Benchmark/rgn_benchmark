{
 "cells": [
  {
   "cell_type": "markdown",
   "metadata": {},
   "source": [
    "# RGN performance evaluation  \n",
    "\n",
    "This notebook is to evaluate the performance of [Recurrent Geometric Network (RGN)](https://github.com/aqlaboratory/rgn) in predicting the 3D structure of CASP12 targets. \n",
    "\n",
    "Detailed setup prior to running this notebook is available in the [README.md](). \n",
    "\n",
    "NOTE: Only prediction time is evaluated here. "
   ]
  },
  {
   "cell_type": "code",
   "execution_count": 1,
   "metadata": {},
   "outputs": [],
   "source": [
    "import os \n",
    "import sys\n",
    "import time \n",
    "import pickle \n",
    "import subprocess\n",
    "from Bio import SeqIO\n",
    "import pandas as pd"
   ]
  },
  {
   "cell_type": "markdown",
   "metadata": {},
   "source": [
    "## Basic info \n",
    "\n",
    "Set up which gpu to use, rgn and database paths. "
   ]
  },
  {
   "cell_type": "code",
   "execution_count": 2,
   "metadata": {},
   "outputs": [],
   "source": [
    "os.environ['CUDA_VISIBLE_DEVICES'] = str(0) \n",
    "rgn_path = '../rgn/' \n",
    "dbs_path = '../dbs/'\n",
    "rgn_model_path = './RGN12/' \n",
    "seq_file = \"./casp12.seq.txt\""
   ]
  },
  {
   "cell_type": "markdown",
   "metadata": {},
   "source": [
    "## Executing RGN function \n",
    "\n",
    "A function to run RGN with Python subprocess32. "
   ]
  },
  {
   "cell_type": "code",
   "execution_count": 3,
   "metadata": {},
   "outputs": [],
   "source": [
    "def exec_rgn(record): \n",
    "    \"\"\"Executing RGN on a biopython SeqRecord\"\"\" \n",
    "    SeqIO.write(record, \"%s.fa\"%record.id, \"fasta\") \n",
    "\n",
    "    protein_name = record.id\n",
    "    perf_dict = dict() \n",
    "    perf_dict['id'] = record.id \n",
    "    perf_dict['n_res'] = len(record.seq)\n",
    "\n",
    "    # hmmer search for MSA\n",
    "    hmmer_command = \"bash %s/data_processing/jackhmmer.sh %s.fa %s/proteinnet12\" % (rgn_path, record.id, dbs_path)\n",
    "    time_start = time.time()\n",
    "    hmmer_p = subprocess.Popen(hmmer_command, shell=True, stdout=subprocess.PIPE, stderr=subprocess.PIPE) \n",
    "    hmmer_p.wait() \n",
    "    perf_dict['hmmer'] = time.time() - time_start \n",
    "\n",
    "    # coversion to tf record format \n",
    "    tfrecord_commands = [\n",
    "        'python {}/data_processing/convert_to_proteinnet.py {}.fa'.format(rgn_path, protein_name),                              \n",
    "        'python {0}/data_processing/convert_to_tfrecord.py {1}.fa.proteinnet {1}.fa.tfrecord 42'.format(rgn_path, protein_name),                              \n",
    "        'cp {}.fa.tfrecord {}/data/ProteinNet12Thinning90/testing/'.format(protein_name, rgn_model_path)] \n",
    "    time_start = time.time() \n",
    "    for command in tfrecord_commands: \n",
    "        p = subprocess.Popen(command, shell=True, stdout=subprocess.PIPE, stderr=subprocess.PIPE) \n",
    "        p.wait()  \n",
    "    perf_dict['tfrecord'] = time.time() - time_start \n",
    "\n",
    "    rgn_command = 'python {0}/model/protling.py '\\\n",
    "                '{1}/runs/CASP12/ProteinNet12Thinning90/configuration '\\\n",
    "                '-d {1} -p -e weighted_testing -g0'.format(rgn_path, rgn_model_path) \n",
    "    time_start = time.time()\n",
    "    rgn_p = subprocess.Popen(rgn_command, shell=True, stdout=subprocess.PIPE, stderr=subprocess.PIPE) \n",
    "    rgn_p.wait() \n",
    "    perf_dict['rgn_predict'] = time.time() - time_start \n",
    "\n",
    "    return perf_dict "
   ]
  },
  {
   "cell_type": "markdown",
   "metadata": {},
   "source": [
    "## Run RGN through casp12 record "
   ]
  },
  {
   "cell_type": "code",
   "execution_count": 6,
   "metadata": {},
   "outputs": [
    {
     "name": "stdout",
     "output_type": "stream",
     "text": [
      "T0859\n"
     ]
    }
   ],
   "source": [
    "perf_record = []\n",
    "targets = list(SeqIO.parse(seq_file, \"fasta\"))\n",
    "for record in targets[:1]:\n",
    "    print record.id\n",
    "#     perf = exec_rgn(record) \n",
    "#     perf_record.append(perf)    "
   ]
  },
  {
   "cell_type": "markdown",
   "metadata": {},
   "source": [
    "## Save the result to pickle "
   ]
  },
  {
   "cell_type": "code",
   "execution_count": 10,
   "metadata": {},
   "outputs": [],
   "source": [
    "with open('perf_rgn.pickle', 'wb') as fp: \n",
    "    pickle.dump(perf_record, fp)"
   ]
  }
 ],
 "metadata": {
  "kernelspec": {
   "display_name": "Python 2",
   "language": "python",
   "name": "python2"
  },
  "language_info": {
   "codemirror_mode": {
    "name": "ipython",
    "version": 2
   },
   "file_extension": ".py",
   "mimetype": "text/x-python",
   "name": "python",
   "nbconvert_exporter": "python",
   "pygments_lexer": "ipython2",
   "version": "2.7.17"
  }
 },
 "nbformat": 4,
 "nbformat_minor": 2
}
